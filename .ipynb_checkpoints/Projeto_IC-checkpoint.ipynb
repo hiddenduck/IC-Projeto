{
 "cells": [
  {
   "cell_type": "markdown",
   "id": "1eb32463",
   "metadata": {},
   "source": [
    "### Concurrency 2022/2023\n",
    "\n",
    "## Quantum Computing - Final Project \n",
    "\n",
    "## Solving satisfiability problems with Grover's Algorithm\n",
    "\n",
    "Trabalho realizado por:\n",
    "\n",
    "Carlos Eduardo da Silva Machado A96936\n",
    "\n",
    "Gonçalo Manuel Maia de Sousa A97485"
   ]
  },
  {
   "cell_type": "markdown",
   "id": "8fec2ad3",
   "metadata": {},
   "source": [
    "## Descrição do Problema"
   ]
  },
  {
   "cell_type": "markdown",
   "id": "603a2514",
   "metadata": {},
   "source": [
    "O algoritmo de Grover é considerado um dos mais poderosos algoritmos quânticos, pois oferece uma melhoria quadrática ($\\mathcal{O}(\\sqrt{N})$) em relação aos algoritmos clássicos ($\\mathcal{O}(N)$), quando falamos em procuras não estruturadas. Mas podemos generalizar este algoritmo para outros problemas como o problema de satisfazibilidade que procuramos resolver neste trabalho.\n",
    "\n",
    "Queremos, portanto, resolver o problema de satisfazibilidade através do algoritmo de Grover, para tal, vamos:\n",
    "1. Criar uma fórmula 3-SAT solucionável;\n",
    "2. Implementar o algoritmo de Grover de forma a resolver o problema;\n",
    "3. Avaliar a qualidade da solução obtida pelo algoritmo;\n",
    "4. Estudar a complexidade associada ao algoritmo aplicado ao problema."
   ]
  },
  {
   "cell_type": "markdown",
   "id": "30a134ff",
   "metadata": {},
   "source": [
    "## Resolução do Problema"
   ]
  },
  {
   "cell_type": "markdown",
   "id": "cd40a356",
   "metadata": {},
   "source": [
    "#####  Desenvolvimento de uma formula 3-SAT solucionável"
   ]
  },
  {
   "cell_type": "markdown",
   "id": "64978c93",
   "metadata": {},
   "source": [
    "Uma fórmula 3-SAT é composta por um ou mais clausulas que são constitúidas por exatamente 3 literais, sendo assim, um exemplo para uma fórmula 3-SAT seria $f(v_1,v_2,v_3) = (\\neg v_1 \\lor v_2 \\lor v_3) \\land (v_1 \\lor \\neg v_2 \\lor v_3)$."
   ]
  },
  {
   "cell_type": "code",
   "execution_count": 1,
   "id": "5c278524",
   "metadata": {},
   "outputs": [],
   "source": [
    "from qiskit import QuantumCircuit, ClassicalRegister, QuantumRegister, Aer, execute\n",
    "from qiskit.tools.visualization import plot_histogram, plot_distribution\n",
    "import matplotlib.pyplot as plt\n",
    "import numpy as np"
   ]
  },
  {
   "cell_type": "code",
   "execution_count": null,
   "id": "4460f48c",
   "metadata": {},
   "outputs": [],
   "source": []
  }
 ],
 "metadata": {
  "kernelspec": {
   "display_name": "Python 3 (ipykernel)",
   "language": "python",
   "name": "python3"
  },
  "language_info": {
   "codemirror_mode": {
    "name": "ipython",
    "version": 3
   },
   "file_extension": ".py",
   "mimetype": "text/x-python",
   "name": "python",
   "nbconvert_exporter": "python",
   "pygments_lexer": "ipython3",
   "version": "3.9.13"
  }
 },
 "nbformat": 4,
 "nbformat_minor": 5
}
