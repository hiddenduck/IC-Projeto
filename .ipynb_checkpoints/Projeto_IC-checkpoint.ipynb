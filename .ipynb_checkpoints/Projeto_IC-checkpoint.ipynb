{
 "cells": [
  {
   "cell_type": "markdown",
   "id": "1eb32463",
   "metadata": {},
   "source": [
    "### Concurrency 2022/2023\n",
    "\n",
    "## Quantum Computing - Final Project \n",
    "\n",
    "## Solving satisfiability problems with Grover's Algorithm\n",
    "\n",
    "Trabalho realizado por:\n",
    "\n",
    "Carlos Eduardo da Silva Machado A96936\n",
    "\n",
    "Gonçalo Manuel Maia de Sousa A97485"
   ]
  },
  {
   "cell_type": "markdown",
   "id": "8fec2ad3",
   "metadata": {},
   "source": [
    "## Descrição do Problema"
   ]
  },
  {
   "cell_type": "markdown",
   "id": "360027c7",
   "metadata": {},
   "source": [
    "O algoritmo de Grover é considerado um dos mais poderosos algoritmos quânticos, pois oferece uma melhoria quadrática ($\\mathcal{O}(\\sqrt{N})$) em relação aos algoritmos clássicos ($\\mathcal{O}(N)$), quando falamos em procuras não estruturadas. Mas podemos generalizar este algoritmo para outros problemas como o problema de satisfazibilidade que procuramos resolver neste trabalho.\n",
    "\n",
    "Queremos, portanto, resolver o problema de satisfazibilidade através do algoritmo de Grover, para tal, vamos:\n",
    "1. Criar uma fórmula 3-SAT solucionável;\n",
    "2. Implementar o algoritmo de Grover de forma a resolver o problema;\n",
    "3. Avaliar a qualidade da solução obtida pelo algoritmo;\n",
    "4. Estudar a complexidade associada ao algoritmo aplicado ao problema."
   ]
  },
  {
   "cell_type": "markdown",
   "id": "30a134ff",
   "metadata": {},
   "source": [
    "## Resolução do Problema"
   ]
  },
  {
   "cell_type": "markdown",
   "id": "8bd64711",
   "metadata": {},
   "source": [
    "#####  Desenvolvimento de uma formula 3-SAT solucionável"
   ]
  },
  {
   "cell_type": "markdown",
   "id": "2f6516d7",
   "metadata": {},
   "source": [
    "Uma fórmula 3-SAT é composta por um ou mais clausulas que são constitúidas por exatamente 3 literais, sendo assim, um exemplo para uma fórmula 3-SAT seria $f(v_1,v_2,v_3) = (\\neg v_1 \\lor v_2 \\lor v_3) \\land (v_1 \\lor \\neg v_2 \\lor v_3)$.\n",
    "A tabela da verdade para esta fórmula exemplo será:\n",
    "\n",
    "f1 = $(\\neg v_1 \\lor v_2 \\lor v_3)$\n",
    "\n",
    "f2 = $(v_1 \\lor \\neg v_2 \\lor v_3)$\n",
    "\n",
    "| v1 | v2 | v3 | f1 | f2 | f |\n",
    "| :---: | :---: | :---: | :---: | :---: | :---: |\n",
    "| 0 | 0 | 0 | 1 | 1 | 1 |\n",
    "| 0 | 0 | 1 | 1 | 1 | 1 |\n",
    "| 0 | 1 | 0 | 1 | 0 | 0 |\n",
    "| 0 | 1 | 1 | 1 | 1 | 1 |\n",
    "| 1 | 0 | 0 | 0 | 1 | 0 |\n",
    "| 1 | 0 | 1 | 1 | 1 | 1 |\n",
    "| 1 | 1 | 0 | 1 | 1 | 1 |\n",
    "| 1 | 1 | 1 | 1 | 1 | 1 |\n",
    "\n",
    "Neste exemplo, temos uma fórmula 3-SAT com mais de uma solução.\n",
    "\n",
    "Vamos procurar por uma fórmula 3-SAT com apenas uma solução.\n"
   ]
  },
  {
   "cell_type": "code",
   "execution_count": 1,
   "id": "5c278524",
   "metadata": {},
   "outputs": [],
   "source": [
    "from qiskit import QuantumCircuit, ClassicalRegister, QuantumRegister, Aer, execute\n",
    "from qiskit.tools.visualization import plot_histogram, plot_distribution\n",
    "import matplotlib.pyplot as plt\n",
    "import numpy as np"
   ]
  },
  {
   "cell_type": "code",
   "execution_count": null,
   "id": "4460f48c",
   "metadata": {},
   "outputs": [],
   "source": [
    "def execute_circuit(qc, shots=1024, decimal=False, reversed=False):\n",
    "    \n",
    "    #define backend\n",
    "    device = Aer.get_backend('qasm_simulator')\n",
    "    #get counts\n",
    "    counts = execute(qc, device, shots=shots).result().get_counts()\n",
    "    \n",
    "    if decimal:\n",
    "        if reversed:\n",
    "            counts = dict((int(a[::-1],2),b) for (a,b) in counts.items())\n",
    "        else:\n",
    "            counts = dict((int(a,2),b) for (a,b) in counts.items())\n",
    "    else:\n",
    "        if reversed:\n",
    "            counts = dict((a[::-1],b) for (a,b) in counts.items())\n",
    "        else:\n",
    "            counts = dict((a,b) for (a,b) in counts.items())\n",
    "\n",
    "    return counts"
   ]
  },
  {
   "cell_type": "code",
   "execution_count": null,
   "id": "4b025795",
   "metadata": {},
   "outputs": [],
   "source": []
  }
 ],
 "metadata": {
  "kernelspec": {
   "display_name": "Python 3 (ipykernel)",
   "language": "python",
   "name": "python3"
  },
  "language_info": {
   "codemirror_mode": {
    "name": "ipython",
    "version": 3
   },
   "file_extension": ".py",
   "mimetype": "text/x-python",
   "name": "python",
   "nbconvert_exporter": "python",
   "pygments_lexer": "ipython3",
   "version": "3.9.13"
  }
 },
 "nbformat": 4,
 "nbformat_minor": 5
}
