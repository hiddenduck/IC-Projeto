{
 "cells": [
  {
   "cell_type": "markdown",
   "id": "1eb32463",
   "metadata": {},
   "source": [
    "### Concurrency 2022/2023\n",
    "\n",
    "## Quantum Computing - Final Project \n",
    "\n",
    "## Solving satisfiability problems with Grover's Algorithm\n",
    "\n",
    "Trabalho realizado por:\n",
    "\n",
    "Carlos Eduardo da Silva Machado A96936\n",
    "\n",
    "Gonçalo Manuel Maia de Sousa A97485"
   ]
  },
  {
   "cell_type": "markdown",
   "id": "8fec2ad3",
   "metadata": {},
   "source": [
    "## Descrição do Problema"
   ]
  },
  {
   "cell_type": "code",
   "execution_count": null,
   "id": "849e1ffa",
   "metadata": {},
   "outputs": [],
   "source": []
  },
  {
   "cell_type": "markdown",
   "id": "30a134ff",
   "metadata": {},
   "source": [
    "## Código Python (Qiskit)"
   ]
  },
  {
   "cell_type": "code",
   "execution_count": 1,
   "id": "5c278524",
   "metadata": {},
   "outputs": [],
   "source": [
    "from qiskit import QuantumCircuit, ClassicalRegister, QuantumRegister, Aer, execute\n",
    "from qiskit.tools.visualization import plot_histogram, plot_distribution\n",
    "import matplotlib.pyplot as plt\n",
    "import numpy as np"
   ]
  },
  {
   "cell_type": "code",
   "execution_count": null,
   "id": "4460f48c",
   "metadata": {},
   "outputs": [],
   "source": []
  }
 ],
 "metadata": {
  "kernelspec": {
   "display_name": "Python 3 (ipykernel)",
   "language": "python",
   "name": "python3"
  },
  "language_info": {
   "codemirror_mode": {
    "name": "ipython",
    "version": 3
   },
   "file_extension": ".py",
   "mimetype": "text/x-python",
   "name": "python",
   "nbconvert_exporter": "python",
   "pygments_lexer": "ipython3",
   "version": "3.9.13"
  }
 },
 "nbformat": 4,
 "nbformat_minor": 5
}
